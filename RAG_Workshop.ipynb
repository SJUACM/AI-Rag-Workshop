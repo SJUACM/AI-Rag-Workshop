{
  "nbformat": 4,
  "nbformat_minor": 0,
  "metadata": {
    "colab": {
      "provenance": []
    },
    "kernelspec": {
      "name": "python3",
      "display_name": "Python 3"
    },
    "language_info": {
      "name": "python"
    }
  },
  "cells": [
    {
      "cell_type": "code",
      "execution_count": null,
      "metadata": {
        "id": "uVRZuxUeU9Kv"
      },
      "outputs": [],
      "source": [
        "! pip install openai\n",
        "! pip install sentence_transformers"
      ]
    },
    {
      "cell_type": "code",
      "source": [
        "from sentence_transformers import SentenceTransformer\n",
        "import openai\n",
        "import requests\n",
        "import json\n",
        "import numpy as np\n",
        "from google.colab import userdata"
      ],
      "metadata": {
        "id": "GKuG7AnmU_pG"
      },
      "execution_count": null,
      "outputs": []
    },
    {
      "cell_type": "code",
      "source": [
        "openrouter_api_key = userdata.get('OPENROUTER_API_KEY')"
      ],
      "metadata": {
        "id": "JmlmCMiDVBCR"
      },
      "execution_count": null,
      "outputs": []
    },
    {
      "cell_type": "code",
      "source": [
        "# Load a Hugging Face model\n",
        "model = SentenceTransformer('sentence-transformers/all-MiniLM-L6-v2')  # Specify the model name you want to use"
      ],
      "metadata": {
        "id": "kizGaRb6VBJp"
      },
      "execution_count": null,
      "outputs": []
    },
    {
      "cell_type": "code",
      "source": [
        "def get_embedding(sentence):\n",
        "    return model.encode(sentence)\n",
        "\n",
        "def get_cosine_similarity(embedding1, embedding2):\n",
        "    return np.dot(embedding1, embedding2) / (np.linalg.norm(embedding1) * np.linalg.norm(embedding2))\n",
        "\n",
        "# Function to split the text into paragraphs\n",
        "def split_into_paragraphs(text):\n",
        "    paragraphs = text.split('\\n\\n')\n",
        "    # Filter out any empty paragraphs or ones that are too short to be meaningful\n",
        "    return [para for para in paragraphs if len(para) > 40]\n",
        "\n",
        "\n",
        "def get_most_relevant_embeddings(embeddings, query_embedding):\n",
        "    similarities = []\n",
        "    for e in embeddings:\n",
        "        sim = get_cosine_similarity(query_embedding, embeddings[e])\n",
        "        similarities.append((sim, e))\n",
        "\n",
        "    # Sort by similarity in descending order\n",
        "    similarities.sort(reverse=True, key=lambda x: x[0])\n",
        "\n",
        "    # Get top 10 similarities\n",
        "    return similarities[:10]"
      ],
      "metadata": {
        "id": "dMtIzsRrVBNX"
      },
      "execution_count": 1,
      "outputs": []
    },
    {
      "cell_type": "code",
      "source": [
        "model = SentenceTransformer('sentence-transformers/all-MiniLM-L6-v2')  # Specify the model name you want to use"
      ],
      "metadata": {
        "id": "-6yoRVzcVEJB"
      },
      "execution_count": null,
      "outputs": []
    },
    {
      "cell_type": "code",
      "source": [],
      "metadata": {
        "id": "Mi3rGMwiV1r6"
      },
      "execution_count": null,
      "outputs": []
    },
    {
      "cell_type": "code",
      "source": [],
      "metadata": {
        "id": "yoq3FaNNV1uo"
      },
      "execution_count": null,
      "outputs": []
    },
    {
      "cell_type": "code",
      "source": [],
      "metadata": {
        "id": "L-cw2X22V1xD"
      },
      "execution_count": null,
      "outputs": []
    },
    {
      "cell_type": "code",
      "source": [],
      "metadata": {
        "id": "bqWtIrilV1zb"
      },
      "execution_count": null,
      "outputs": []
    },
    {
      "cell_type": "code",
      "source": [],
      "metadata": {
        "id": "2IB5wYgcV11d"
      },
      "execution_count": null,
      "outputs": []
    },
    {
      "cell_type": "code",
      "source": [],
      "metadata": {
        "id": "NLalJMp4V2KK"
      },
      "execution_count": null,
      "outputs": []
    }
  ]
}